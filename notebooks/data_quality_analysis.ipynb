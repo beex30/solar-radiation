{
 "cells": [
  {
   "cell_type": "code",
   "id": "initial_id",
   "metadata": {
    "collapsed": true,
    "ExecuteTime": {
     "end_time": "2024-12-08T14:46:14.077872Z",
     "start_time": "2024-12-08T14:46:14.058688Z"
    }
   },
   "source": [
    "# Import necessary libraries\n",
    "import pandas as pd\n",
    "# Import custom functions\n",
    "from scripts.data_quality_check import data_quality_check, summarize_quality_issues\n",
    "from scripts.data_cleaning import clean_data"
   ],
   "outputs": [],
   "execution_count": 10
  },
  {
   "metadata": {
    "ExecuteTime": {
     "end_time": "2024-12-08T14:46:32.450284Z",
     "start_time": "2024-12-08T14:46:18.433795Z"
    }
   },
   "cell_type": "code",
   "source": [
    "# Load datasets\n",
    "togo_df = pd.read_csv('../src/data/togo-dapaong_qc.csv')\n",
    "sierraleone_df = pd.read_csv('../src/data/sierraleone-bumbuna.csv')\n",
    "benin_df = pd.read_csv('../src/data/benin-malanville.csv')"
   ],
   "id": "d17152ee1601c3c9",
   "outputs": [],
   "execution_count": 11
  },
  {
   "metadata": {
    "ExecuteTime": {
     "end_time": "2024-12-08T14:46:45.289840Z",
     "start_time": "2024-12-08T14:46:45.284142Z"
    }
   },
   "cell_type": "code",
   "source": [
    "# Define columns for quality check\n",
    "columns_to_check = ['GHI', 'DNI', 'DHI', 'ModA', 'ModB', 'WS', 'WSgust']"
   ],
   "id": "a6f74092a6acdb33",
   "outputs": [],
   "execution_count": 12
  },
  {
   "metadata": {
    "ExecuteTime": {
     "end_time": "2024-12-08T14:46:48.268667Z",
     "start_time": "2024-12-08T14:46:47.428582Z"
    }
   },
   "cell_type": "code",
   "source": [
    "# Perform quality checks on each dataset\n",
    "togo_issues = data_quality_check(togo_df, columns_to_check)\n",
    "sierraleone_issues = data_quality_check(sierraleone_df, columns_to_check)\n",
    "benin_issues = data_quality_check(benin_df, columns_to_check)"
   ],
   "id": "b8ab534ad88b7e69",
   "outputs": [],
   "execution_count": 13
  },
  {
   "metadata": {
    "ExecuteTime": {
     "end_time": "2024-12-08T14:46:50.044047Z",
     "start_time": "2024-12-08T14:46:50.022253Z"
    }
   },
   "cell_type": "code",
   "source": [
    "# Print the results\n",
    "print(\"TOGO Dataset:\")\n",
    "summarize_quality_issues(togo_issues)"
   ],
   "id": "518a656d8335613",
   "outputs": [
    {
     "name": "stdout",
     "output_type": "stream",
     "text": [
      "TOGO Dataset:\n",
      "Data Quality Check Summary:\n",
      "Column: GHI\n",
      "  Missing Values: 0\n",
      "  Negative Values: 257385\n",
      "  Outliers: 1303\n",
      "----------------------------------------\n",
      "Column: DNI\n",
      "  Missing Values: 0\n",
      "  Negative Values: 0\n",
      "  Outliers: 50586\n",
      "----------------------------------------\n",
      "Column: DHI\n",
      "  Missing Values: 0\n",
      "  Negative Values: 0\n",
      "  Outliers: 7905\n",
      "----------------------------------------\n",
      "Column: ModA\n",
      "  Missing Values: 0\n",
      "  Negative Values: 0\n",
      "  Outliers: 1237\n",
      "----------------------------------------\n",
      "Column: ModB\n",
      "  Missing Values: 0\n",
      "  Negative Values: 0\n",
      "  Outliers: 1537\n",
      "----------------------------------------\n",
      "Column: WS\n",
      "  Missing Values: 0\n",
      "  Negative Values: 0\n",
      "  Outliers: 8708\n",
      "----------------------------------------\n",
      "Column: WSgust\n",
      "  Missing Values: 0\n",
      "  Negative Values: 0\n",
      "  Outliers: 7377\n",
      "----------------------------------------\n"
     ]
    }
   ],
   "execution_count": 14
  },
  {
   "metadata": {
    "ExecuteTime": {
     "end_time": "2024-12-08T14:46:52.583760Z",
     "start_time": "2024-12-08T14:46:52.568403Z"
    }
   },
   "cell_type": "code",
   "source": [
    "print(\"\\nSIERRA LEONE Dataset:\")\n",
    "summarize_quality_issues(sierraleone_issues)"
   ],
   "id": "b4f90b86e71166e1",
   "outputs": [
    {
     "name": "stdout",
     "output_type": "stream",
     "text": [
      "\n",
      "SIERRA LEONE Dataset:\n",
      "Data Quality Check Summary:\n",
      "Column: GHI\n",
      "  Missing Values: 0\n",
      "  Negative Values: 261135\n",
      "  Outliers: 15853\n",
      "----------------------------------------\n",
      "Column: DNI\n",
      "  Missing Values: 0\n",
      "  Negative Values: 266352\n",
      "  Outliers: 101688\n",
      "----------------------------------------\n",
      "Column: DHI\n",
      "  Missing Values: 0\n",
      "  Negative Values: 263128\n",
      "  Outliers: 4407\n",
      "----------------------------------------\n",
      "Column: ModA\n",
      "  Missing Values: 0\n",
      "  Negative Values: 0\n",
      "  Outliers: 21017\n",
      "----------------------------------------\n",
      "Column: ModB\n",
      "  Missing Values: 0\n",
      "  Negative Values: 0\n",
      "  Outliers: 20613\n",
      "----------------------------------------\n",
      "Column: WS\n",
      "  Missing Values: 0\n",
      "  Negative Values: 0\n",
      "  Outliers: 3169\n",
      "----------------------------------------\n",
      "Column: WSgust\n",
      "  Missing Values: 0\n",
      "  Negative Values: 0\n",
      "  Outliers: 3665\n",
      "----------------------------------------\n"
     ]
    }
   ],
   "execution_count": 15
  },
  {
   "metadata": {
    "ExecuteTime": {
     "end_time": "2024-12-08T14:46:55.033535Z",
     "start_time": "2024-12-08T14:46:55.018740Z"
    }
   },
   "cell_type": "code",
   "source": [
    "print(\"\\nBENIN Dataset:\")\n",
    "summarize_quality_issues(benin_issues)\n"
   ],
   "id": "ac0b7a9cb6b88820",
   "outputs": [
    {
     "name": "stdout",
     "output_type": "stream",
     "text": [
      "\n",
      "BENIN Dataset:\n",
      "Data Quality Check Summary:\n",
      "Column: GHI\n",
      "  Missing Values: 0\n",
      "  Negative Values: 258847\n",
      "  Outliers: 145\n",
      "----------------------------------------\n",
      "Column: DNI\n",
      "  Missing Values: 0\n",
      "  Negative Values: 275987\n",
      "  Outliers: 15196\n",
      "----------------------------------------\n",
      "Column: DHI\n",
      "  Missing Values: 0\n",
      "  Negative Values: 259182\n",
      "  Outliers: 8733\n",
      "----------------------------------------\n",
      "Column: ModA\n",
      "  Missing Values: 0\n",
      "  Negative Values: 0\n",
      "  Outliers: 98\n",
      "----------------------------------------\n",
      "Column: ModB\n",
      "  Missing Values: 0\n",
      "  Negative Values: 0\n",
      "  Outliers: 240\n",
      "----------------------------------------\n",
      "Column: WS\n",
      "  Missing Values: 0\n",
      "  Negative Values: 0\n",
      "  Outliers: 6717\n",
      "----------------------------------------\n",
      "Column: WSgust\n",
      "  Missing Values: 0\n",
      "  Negative Values: 0\n",
      "  Outliers: 5368\n",
      "----------------------------------------\n"
     ]
    }
   ],
   "execution_count": 16
  },
  {
   "metadata": {
    "ExecuteTime": {
     "end_time": "2024-12-08T14:47:03.772697Z",
     "start_time": "2024-12-08T14:46:57.738744Z"
    }
   },
   "cell_type": "code",
   "source": [
    "# Clean the datasets\n",
    "togo_df = clean_data(togo_df)\n",
    "sierraleone_df = clean_data(sierraleone_df)\n",
    "benin_df = clean_data(benin_df)"
   ],
   "id": "c14bca5d3165068e",
   "outputs": [],
   "execution_count": 17
  },
  {
   "metadata": {
    "ExecuteTime": {
     "end_time": "2024-12-08T14:47:48.370765Z",
     "start_time": "2024-12-08T14:47:38.524443Z"
    }
   },
   "cell_type": "code",
   "source": [
    "# Save cleaned data\n",
    "togo_df.to_csv('../src/data/cleaned_togo.csv', index=False)"
   ],
   "id": "194e02d20df6d0a2",
   "outputs": [],
   "execution_count": 18
  },
  {
   "metadata": {
    "ExecuteTime": {
     "end_time": "2024-12-08T14:47:59.891432Z",
     "start_time": "2024-12-08T14:47:49.804139Z"
    }
   },
   "cell_type": "code",
   "source": [
    "# Save cleaned data\n",
    "sierraleone_df.to_csv('../src/data/cleaned_sierraleone.csv', index=False)"
   ],
   "id": "20e0ea86ce40b764",
   "outputs": [],
   "execution_count": 19
  },
  {
   "metadata": {
    "ExecuteTime": {
     "end_time": "2024-12-08T14:48:11.067469Z",
     "start_time": "2024-12-08T14:48:01.302772Z"
    }
   },
   "cell_type": "code",
   "source": [
    "# Save cleaned data\n",
    "benin_df.to_csv('../src/data/cleaned_benin.csv', index=False)\n"
   ],
   "id": "e7a8b13ce8d5cf69",
   "outputs": [],
   "execution_count": 20
  }
 ],
 "metadata": {
  "kernelspec": {
   "display_name": "Python 3",
   "language": "python",
   "name": "python3"
  },
  "language_info": {
   "codemirror_mode": {
    "name": "ipython",
    "version": 2
   },
   "file_extension": ".py",
   "mimetype": "text/x-python",
   "name": "python",
   "nbconvert_exporter": "python",
   "pygments_lexer": "ipython2",
   "version": "2.7.6"
  }
 },
 "nbformat": 4,
 "nbformat_minor": 5
}
